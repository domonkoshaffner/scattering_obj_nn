{
  "nbformat": 4,
  "nbformat_minor": 0,
  "metadata": {
    "kernelspec": {
      "display_name": "Python 3",
      "language": "python",
      "name": "python3"
    },
    "language_info": {
      "codemirror_mode": {
        "name": "ipython",
        "version": 3
      },
      "file_extension": ".py",
      "mimetype": "text/x-python",
      "name": "python",
      "nbconvert_exporter": "python",
      "pygments_lexer": "ipython3",
      "version": "3.8.5"
    },
    "colab": {
      "name": "NN_4_multiple_dec6_conv.ipynb",
      "provenance": [],
      "toc_visible": true
    },
    "accelerator": "GPU"
  },
  "cells": [
    {
      "cell_type": "markdown",
      "metadata": {
        "id": "7nuxJzW89b1l"
      },
      "source": [
        "## Short description of the notebook\n",
        "\n",
        "This notebook was created and ran in google colab.\n",
        "\n",
        "This is an amendment to the main notebook. For further documantion, one shall see the main notebook.\n",
        "\n",
        "In this notebook, the problem is solved with only *convolutional* and *dense* NN layers (without *locally connected layers*) to prove the necessity of a *locally connected layer*. "
      ]
    },
    {
      "cell_type": "markdown",
      "metadata": {
        "id": "rucbf1s6B8aI"
      },
      "source": [
        "## Importing the necessary libraries"
      ]
    },
    {
      "cell_type": "code",
      "metadata": {
        "id": "XDrXwnDkZCHh"
      },
      "source": [
        "# Basic calculations and plotting \n",
        "import numpy as np\n",
        "import matplotlib.pyplot as plt\n",
        "\n",
        "# Generating random numbers\n",
        "import random\n",
        "\n",
        "# Prerocessing the data, splitting the dataset, calculating the accuracy\n",
        "from sklearn import preprocessing\n",
        "import skimage.measure\n",
        "from sklearn.model_selection import train_test_split\n",
        "from sklearn.metrics import accuracy_score\n",
        "\n",
        "# Creating the NN\n",
        "from tensorflow import keras\n",
        "from tensorflow.keras import layers\n",
        "from tensorflow.keras.layers import Permute, Dense, Activation, LocallyConnected2D, Reshape, Flatten, Dropout, Input, Conv2D\n",
        "from tensorflow.keras.models import Sequential, Model\n",
        "import tensorflow.keras.optimizers"
      ],
      "execution_count": 1,
      "outputs": []
    },
    {
      "cell_type": "markdown",
      "metadata": {
        "id": "DtWxp0uOBwGy"
      },
      "source": [
        "## Loading and preprocessing the data"
      ]
    },
    {
      "cell_type": "code",
      "metadata": {
        "id": "FVlFzWc-KSOm"
      },
      "source": [
        "# Importing the dataset\n",
        "\n",
        "x_all = np.genfromtxt(\"interp_scattered_Noisy_NearFieldData.txt\", delimiter='')\n",
        "y = np.genfromtxt(\"Characteristics_no_rep.txt\", delimiter='')\n",
        "\n",
        "# Setting the number of angles\n",
        "\n",
        "number_of_angles = 16\n",
        "\n",
        "# We can delete the last column of the imported dataset, cause we don't calculate with the wavelength just yet\n",
        "\n",
        "y = np.delete(y, [4], axis = 1)\n",
        "\n",
        "# We transform the y-coordinates, so the norm is one\n",
        "\n",
        "y = y+3\n",
        "y = y/6"
      ],
      "execution_count": 2,
      "outputs": []
    },
    {
      "cell_type": "code",
      "metadata": {
        "id": "62lq26VNMOCd"
      },
      "source": [
        "# Creating some lists to store the new datasets\n",
        "\n",
        "dataset = []\n",
        "reduced_dataset = []\n",
        "\n",
        "# Separating the dataset into list of lists\n",
        "# Preprocessing the dataset with the preprocessing.scale() function\n",
        "\n",
        "for i in range(0,number_of_angles):\n",
        "    dataset.append(preprocessing.scale(x_all[735*(i):735*(i+1)], axis=0))\n",
        "\n",
        "# Reducing the size of the dataset with the skimage.measure.block_reduce() function\n",
        "# Reducing the size of vectors from len = 161 to len = 11\n",
        "# For this the splitting size must equal to 15\n",
        "# Using np.average to estimate between the points\n",
        "\n",
        "splitting_size = 15\n",
        "\n",
        "for i in range(0,len(dataset)):\n",
        "    reduced_dataset.append(skimage.measure.block_reduce(dataset[i], (1,splitting_size), np.average))"
      ],
      "execution_count": 3,
      "outputs": []
    },
    {
      "cell_type": "code",
      "metadata": {
        "id": "BRMjMr9nbzMe"
      },
      "source": [
        "# Splitting the matrix to train and test dataset\n",
        "# Creating some lists to store the data\n",
        "# Saving the train and test datasets to lists\n",
        "\n",
        "def dataset_split(reduced_dataset, rand_state):\n",
        "\n",
        "    combined_vector_train = []\n",
        "    combined_vector_test = []\n",
        "\n",
        "    for i in range(0,len(reduced_dataset)):\n",
        "        x_train, x_test, y_train, y_test = train_test_split(reduced_dataset[i], y, test_size = 0.08, random_state = rand_state) \n",
        "\n",
        "        combined_vector_train.append(x_train)\n",
        "        combined_vector_test.append(x_test)\n",
        "\n",
        "    # Changing the dimensions of the matrices, so they are appropriate for the NN\n",
        "\n",
        "    combined_vector_train = np.swapaxes(combined_vector_train,0,1)\n",
        "    combined_vector_test = np.swapaxes(combined_vector_test,0,1)\n",
        "\n",
        "    matrix_of_results = [combined_vector_train, combined_vector_test, y_train, y_test]\n",
        "\n",
        "    return(matrix_of_results)"
      ],
      "execution_count": 4,
      "outputs": []
    },
    {
      "cell_type": "markdown",
      "metadata": {
        "id": "FBLJqR3rBqC5"
      },
      "source": [
        "## Creating the model and launching the neural network"
      ]
    },
    {
      "cell_type": "code",
      "metadata": {
        "scrolled": true,
        "colab": {
          "base_uri": "https://localhost:8080/",
          "height": 369
        },
        "id": "nT8mok16ZCHi",
        "outputId": "fdac39d0-2405-45eb-c333-1a49325bcaf7"
      },
      "source": [
        "# Setting the parameters of the NN\n",
        "\n",
        "runs = 1\n",
        "BATCH = 32\n",
        "EPOCH = 250\n",
        "\n",
        "acc_scores = []\n",
        "val_loss_scores = []\n",
        "\n",
        "\n",
        "for i in range (0,runs):\n",
        "\n",
        "    # Generating a random number and using it as the random_state of the train-test splitting\n",
        "    random_state = random.randint(0,100)\n",
        "    # Calling the function of the splitting \n",
        "    results = dataset_split(reduced_dataset, random_state)\n",
        "\n",
        "    # Saving the results in arrays\n",
        "    combined_vector_train = results[0]\n",
        "    combined_vector_test = results[1]\n",
        "    y_train = results[2]\n",
        "    y_test = results[3]\n",
        "\n",
        "    # Creating the model\n",
        "    model = Sequential()\n",
        "\n",
        "    # Adding the layers\n",
        "    model.add(Permute((2,1), input_shape=(16,11)))\n",
        "    model.add(Reshape((16,11,1)))\n",
        "    model.add(Conv2D(2,3, activation='relu', use_bias=True))\n",
        "    model.add(Dropout(0.5))\n",
        "    model.add(Flatten())\n",
        "    model.add(Dense(50, activation='relu'))\n",
        "    model.add(Dense(40, activation='relu'))\n",
        "    model.add(Dense(8, activation='relu'))\n",
        "    model.add(Flatten())\n",
        "    model.add(Dense(4,activation='sigmoid'))\n",
        "    \n",
        "    # Setting the optimizer and compiling the model\n",
        "    optimizer = keras.optimizers.Adam(learning_rate=0.0005, beta_1=0.9, beta_2=0.8, amsgrad=False)\n",
        "    model.compile(loss='mse', optimizer=optimizer)\n",
        "    \n",
        "    # Fitting the model\n",
        "    print(\"Run\",i+1,\"/\",runs)\n",
        "    history = model.fit(combined_vector_train, y_train, validation_data=(combined_vector_test, y_test), batch_size=BATCH, epochs=EPOCH, verbose = 0)\n",
        "    \n",
        "    # Calculating the different parameters of the model\n",
        "    min_of_val_loss = np.min(history.history['val_loss'])\n",
        "    index_of_min = history.history['val_loss'].index(min_of_val_loss)\n",
        "    val_loss_min = '{:0.4f}'.format(min_of_val_loss)\n",
        "    val_loss_final = '{:0.4f}'.format(history.history['val_loss'][EPOCH-1])\n",
        "    \n",
        "    # Plotting the validation- and training loss of the model\n",
        "    plt.plot(history.history['loss'], color = 'orange', label='train loss')\n",
        "    plt.plot(history.history['val_loss'], color = 'black', label='validation loss')\n",
        "    plt.xlabel('epochs', fontsize=15)\n",
        "    #plt.ylim(0, 0.006)\n",
        "    plt.ylabel('loss', fontsize=15)\n",
        "    plt.legend(fontsize=15)\n",
        "    plt.grid()\n",
        "    plt.show()\n",
        "\n",
        "    # Predicting the test values of the dataset\n",
        "    predicted_values = np.matrix.round(model.predict(combined_vector_test)*6-3)\n",
        "    y_test_pred_flat = np.ndarray.flatten(predicted_values)\n",
        "    y_test_flat = np.ndarray.flatten(y_test)\n",
        "\n",
        "    # Calculating the accuracy of the model\n",
        "    acc = accuracy_score(y_test_flat*6-3, y_test_pred_flat)\n",
        "    \n",
        "    # Printing the results\n",
        "    print('The accuracy of the model: ', round(acc,4))\n",
        "    print(\"Validation loss =\", '{:0.4f}'.format(history.history['val_loss'][EPOCH-1]))\n",
        "    print('Minimum of validation loss:', '{:0.4f}'.format(min_of_val_loss), 'at EPOCH', index_of_min)\n",
        "    print()\n",
        "\n",
        "    acc_scores.append(round(acc,3))\n",
        "    val_loss_scores.append(round(history.history['val_loss'][EPOCH-1],4))\n"
      ],
      "execution_count": 5,
      "outputs": [
        {
          "output_type": "stream",
          "text": [
            "Run 1 / 1\n"
          ],
          "name": "stdout"
        },
        {
          "output_type": "display_data",
          "data": {
            "image/png": "[encoded data removed]",
            "text/plain": [
              "<Figure size 432x288 with 1 Axes>"
            ]
          },
          "metadata": {
            "tags": [],
            "needs_background": "light"
          }
        },
        {
          "output_type": "stream",
          "text": [
            "The accuracy of the model:  0.8347\n",
            "Validation loss = 0.0047\n",
            "Minimum of validation loss: 0.0044 at EPOCH 207\n",
            "\n"
          ],
          "name": "stdout"
        }
      ]
    }
  ]
}